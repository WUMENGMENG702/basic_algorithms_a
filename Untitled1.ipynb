{
  "nbformat": 4,
  "nbformat_minor": 0,
  "metadata": {
    "colab": {
      "name": "Untitled1.ipynb",
      "provenance": [],
      "collapsed_sections": [],
      "include_colab_link": true
    },
    "kernelspec": {
      "name": "python3",
      "display_name": "Python 3"
    }
  },
  "cells": [
    {
      "cell_type": "markdown",
      "metadata": {
        "id": "view-in-github",
        "colab_type": "text"
      },
      "source": [
        "<a href=\"https://colab.research.google.com/github/WUMENGMENG702/basic_algorithms_a/blob/master/Untitled1.ipynb\" target=\"_parent\"><img src=\"https://colab.research.google.com/assets/colab-badge.svg\" alt=\"Open In Colab\"/></a>"
      ]
    },
    {
      "cell_type": "markdown",
      "metadata": {
        "id": "BhAKzFmH3WgS",
        "colab_type": "text"
      },
      "source": [
        "2.変数、文字列とリストを変数xに導入する\n",
        "\n"
      ]
    },
    {
      "cell_type": "code",
      "metadata": {
        "id": "yJS1UZH-4Ga6",
        "colab_type": "code",
        "outputId": "1c874046-ba4a-4e09-8901-bc4702cd0ed1",
        "colab": {
          "base_uri": "https://localhost:8080/",
          "height": 68
        }
      },
      "source": [
        "x=1  #xは整数\n",
        "print(x)\n",
        "x=\"hello\" #は文字列\n",
        "print(x)\n",
        "x=[1,2,3] #xは1,2,3のリスト\n",
        "print(x)"
      ],
      "execution_count": 0,
      "outputs": [
        {
          "output_type": "stream",
          "text": [
            "1\n",
            "hello\n",
            "[1, 2, 3]\n"
          ],
          "name": "stdout"
        }
      ]
    },
    {
      "cell_type": "code",
      "metadata": {
        "id": "g9MFt1rI5RLF",
        "colab_type": "code",
        "outputId": "0bf51034-b616-4f49-d480-65936c344fd9",
        "colab": {
          "base_uri": "https://localhost:8080/",
          "height": 34
        }
      },
      "source": [
        "y=x\n",
        "print(y)"
      ],
      "execution_count": 0,
      "outputs": [
        {
          "output_type": "stream",
          "text": [
            "[1, 2, 3]\n"
          ],
          "name": "stdout"
        }
      ]
    },
    {
      "cell_type": "markdown",
      "metadata": {
        "id": "UStUlwHk5Y9M",
        "colab_type": "text"
      },
      "source": [
        "append()を使って、xの変数に4を追加する"
      ]
    },
    {
      "cell_type": "code",
      "metadata": {
        "id": "T7vV8h335wnC",
        "colab_type": "code",
        "outputId": "13a68fe2-4b59-40dc-98ee-aeb46f9e64e0",
        "colab": {
          "base_uri": "https://localhost:8080/",
          "height": 34
        }
      },
      "source": [
        "x.append(4)\n",
        "print(y)"
      ],
      "execution_count": 0,
      "outputs": [
        {
          "output_type": "stream",
          "text": [
            "[1, 2, 3, 4]\n"
          ],
          "name": "stdout"
        }
      ]
    },
    {
      "cell_type": "markdown",
      "metadata": {
        "id": "EUjovQ3H6_L3",
        "colab_type": "text"
      },
      "source": [
        "5.xに他のものに導入し、yを出力してみる"
      ]
    },
    {
      "cell_type": "code",
      "metadata": {
        "id": "rHNjjkPP7d7n",
        "colab_type": "code",
        "outputId": "11142907-af25-4e95-b1fe-edf3840d842d",
        "colab": {
          "base_uri": "https://localhost:8080/",
          "height": 34
        }
      },
      "source": [
        "x=\"something else\"\n",
        "print(y)"
      ],
      "execution_count": 0,
      "outputs": [
        {
          "output_type": "stream",
          "text": [
            "[1, 2, 3, 4]\n"
          ],
          "name": "stdout"
        }
      ]
    },
    {
      "cell_type": "markdown",
      "metadata": {
        "id": "OsK52RWZ7xpn",
        "colab_type": "text"
      },
      "source": [
        "4をxに導入し、type() を使って、xの種類を見せてください。"
      ]
    },
    {
      "cell_type": "code",
      "metadata": {
        "id": "NitJMjl28h32",
        "colab_type": "code",
        "outputId": "6d9bb4bd-80f9-4bef-a4c0-f862d46a4559",
        "colab": {
          "base_uri": "https://localhost:8080/",
          "height": 34
        }
      },
      "source": [
        "x=4\n",
        "type(x)"
      ],
      "execution_count": 0,
      "outputs": [
        {
          "output_type": "execute_result",
          "data": {
            "text/plain": [
              "int"
            ]
          },
          "metadata": {
            "tags": []
          },
          "execution_count": 6
        }
      ]
    },
    {
      "cell_type": "code",
      "metadata": {
        "id": "GfFUh1kd8z-H",
        "colab_type": "code",
        "outputId": "7918649e-b7da-45b6-b9db-1bc11c8e06b1",
        "colab": {
          "base_uri": "https://localhost:8080/",
          "height": 34
        }
      },
      "source": [
        "x=\"hello\"\n",
        "type(x)\n"
      ],
      "execution_count": 0,
      "outputs": [
        {
          "output_type": "execute_result",
          "data": {
            "text/plain": [
              "str"
            ]
          },
          "metadata": {
            "tags": []
          },
          "execution_count": 8
        }
      ]
    },
    {
      "cell_type": "code",
      "metadata": {
        "id": "5jTGcOEw9An_",
        "colab_type": "code",
        "outputId": "0d3e9ad8-82d2-462b-c1e4-5ad8de098ffc",
        "colab": {
          "base_uri": "https://localhost:8080/",
          "height": 34
        }
      },
      "source": [
        "x=3.14159\n",
        "type(x)"
      ],
      "execution_count": 0,
      "outputs": [
        {
          "output_type": "execute_result",
          "data": {
            "text/plain": [
              "float"
            ]
          },
          "metadata": {
            "tags": []
          },
          "execution_count": 9
        }
      ]
    },
    {
      "cell_type": "code",
      "metadata": {
        "id": "RU9xDO6E9HbK",
        "colab_type": "code",
        "outputId": "5a2f0ab7-7c06-4c45-ae63-ac3b11b4019c",
        "colab": {
          "base_uri": "https://localhost:8080/",
          "height": 34
        }
      },
      "source": [
        "print((5+2)*(12/4))\n"
      ],
      "execution_count": 0,
      "outputs": [
        {
          "output_type": "stream",
          "text": [
            "21.0\n"
          ],
          "name": "stdout"
        }
      ]
    },
    {
      "cell_type": "code",
      "metadata": {
        "id": "r-RXl8Co9WKs",
        "colab_type": "code",
        "outputId": "1a2a5e27-50e2-432c-dc2d-54a831ec56df",
        "colab": {
          "base_uri": "https://localhost:8080/",
          "height": 51
        }
      },
      "source": [
        "print(11/3)\n",
        "print(11//3)"
      ],
      "execution_count": 0,
      "outputs": [
        {
          "output_type": "stream",
          "text": [
            "3.6666666666666665\n",
            "3\n"
          ],
          "name": "stdout"
        }
      ]
    },
    {
      "cell_type": "code",
      "metadata": {
        "id": "j4Qack9N9jS0",
        "colab_type": "code",
        "outputId": "81095890-834c-484c-dc43-47253bf9f0f0",
        "colab": {
          "base_uri": "https://localhost:8080/",
          "height": 34
        }
      },
      "source": [
        "print(2**5)"
      ],
      "execution_count": 0,
      "outputs": [
        {
          "output_type": "stream",
          "text": [
            "32\n"
          ],
          "name": "stdout"
        }
      ]
    },
    {
      "cell_type": "markdown",
      "metadata": {
        "id": "Rcojnex6-NGM",
        "colab_type": "text"
      },
      "source": [
        "12の2進数を計算してください。"
      ]
    },
    {
      "cell_type": "code",
      "metadata": {
        "id": "dCPwIk6W-U58",
        "colab_type": "code",
        "outputId": "0757e279-5bdb-4f21-d2a0-b40c7fea80ba",
        "colab": {
          "base_uri": "https://localhost:8080/",
          "height": 34
        }
      },
      "source": [
        "x=bin(12)\n",
        "print(x)"
      ],
      "execution_count": 0,
      "outputs": [
        {
          "output_type": "stream",
          "text": [
            "0b1100\n"
          ],
          "name": "stdout"
        }
      ]
    },
    {
      "cell_type": "code",
      "metadata": {
        "id": "FGgu2bO8_arc",
        "colab_type": "code",
        "outputId": "3446f473-181c-4f98-8a3b-71b8a0e6f9c0",
        "colab": {
          "base_uri": "https://localhost:8080/",
          "height": 34
        }
      },
      "source": [
        "x=bin(4)\n",
        "print(x)"
      ],
      "execution_count": 0,
      "outputs": [
        {
          "output_type": "stream",
          "text": [
            "0b100\n"
          ],
          "name": "stdout"
        }
      ]
    },
    {
      "cell_type": "code",
      "metadata": {
        "id": "SzBd4oZL_ssD",
        "colab_type": "code",
        "outputId": "b6bc884b-cc4c-4aa0-be03-3fcbd22fe951",
        "colab": {
          "base_uri": "https://localhost:8080/",
          "height": 34
        }
      },
      "source": [
        "a=bin(12)\n",
        "b=bin(4)\n",
        "x=a or b\n",
        "print(x)"
      ],
      "execution_count": 0,
      "outputs": [
        {
          "output_type": "stream",
          "text": [
            "0b1100\n"
          ],
          "name": "stdout"
        }
      ]
    },
    {
      "cell_type": "code",
      "metadata": {
        "id": "QFglgQHQE0gh",
        "colab_type": "code",
        "outputId": "e986fda0-fd0e-4503-9245-7b4b66196cd0",
        "colab": {
          "base_uri": "https://localhost:8080/",
          "height": 34
        }
      },
      "source": [
        "a=5\n",
        "b_bin=bin(a)\n",
        "print(a)"
      ],
      "execution_count": 0,
      "outputs": [
        {
          "output_type": "stream",
          "text": [
            "5\n"
          ],
          "name": "stdout"
        }
      ]
    },
    {
      "cell_type": "code",
      "metadata": {
        "id": "jjzrK_W7E9XR",
        "colab_type": "code",
        "outputId": "54f0d574-a0d6-429a-a088-88a9294e6605",
        "colab": {
          "base_uri": "https://localhost:8080/",
          "height": 34
        }
      },
      "source": [
        "b=67\n",
        "b_bin=bin(b)\n",
        "print(b)"
      ],
      "execution_count": 0,
      "outputs": [
        {
          "output_type": "stream",
          "text": [
            "67\n"
          ],
          "name": "stdout"
        }
      ]
    },
    {
      "cell_type": "code",
      "metadata": {
        "id": "nkOVcMyTFNwj",
        "colab_type": "code",
        "outputId": "9b0a6b14-3820-4f38-daf8-bb2c19d4e498",
        "colab": {
          "base_uri": "https://localhost:8080/",
          "height": 34
        }
      },
      "source": [
        "print(a | b)"
      ],
      "execution_count": 0,
      "outputs": [
        {
          "output_type": "stream",
          "text": [
            "71\n"
          ],
          "name": "stdout"
        }
      ]
    },
    {
      "cell_type": "code",
      "metadata": {
        "id": "ZrSqzcOwFYXN",
        "colab_type": "code",
        "outputId": "e31d4e24-2340-4dab-d7a9-b05c654a9833",
        "colab": {
          "base_uri": "https://localhost:8080/",
          "height": 34
        }
      },
      "source": [
        "print(a<<b)"
      ],
      "execution_count": 0,
      "outputs": [
        {
          "output_type": "stream",
          "text": [
            "737869762948382064640\n"
          ],
          "name": "stdout"
        }
      ]
    },
    {
      "cell_type": "code",
      "metadata": {
        "id": "oPbrKHvoFcnF",
        "colab_type": "code",
        "outputId": "42f830d3-93e3-4acb-cdd4-028c0dfaf868",
        "colab": {
          "base_uri": "https://localhost:8080/",
          "height": 34
        }
      },
      "source": [
        "print(a>>b)"
      ],
      "execution_count": 0,
      "outputs": [
        {
          "output_type": "stream",
          "text": [
            "0\n"
          ],
          "name": "stdout"
        }
      ]
    },
    {
      "cell_type": "code",
      "metadata": {
        "id": "n_NubPirFlLP",
        "colab_type": "code",
        "outputId": "ff97f49a-4510-4d1d-a7a9-eb8979ada0c5",
        "colab": {
          "base_uri": "https://localhost:8080/",
          "height": 34
        }
      },
      "source": [
        "print(a & b)"
      ],
      "execution_count": 0,
      "outputs": [
        {
          "output_type": "stream",
          "text": [
            "1\n"
          ],
          "name": "stdout"
        }
      ]
    }
  ]
}